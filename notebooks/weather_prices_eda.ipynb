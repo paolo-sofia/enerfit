{
 "cells": [
  {
   "cell_type": "markdown",
   "source": [
    "## Imports"
   ],
   "metadata": {
    "collapsed": false
   },
   "id": "ed1c7523093985ca"
  },
  {
   "cell_type": "code",
   "execution_count": 1,
   "id": "initial_id",
   "metadata": {
    "collapsed": true,
    "ExecuteTime": {
     "end_time": "2024-01-25T13:42:54.464714667Z",
     "start_time": "2024-01-25T13:42:54.169387675Z"
    }
   },
   "outputs": [],
   "source": [
    "import pathlib\n",
    "\n",
    "import pandas as pd\n",
    "import plotly.express as px"
   ]
  },
  {
   "cell_type": "markdown",
   "source": [
    "## Environment variables"
   ],
   "metadata": {
    "collapsed": false
   },
   "id": "b4404ceb4aa33ddb"
  },
  {
   "cell_type": "markdown",
   "source": [],
   "metadata": {
    "collapsed": false
   },
   "id": "e94f8929a824c153"
  },
  {
   "cell_type": "code",
   "outputs": [],
   "source": [
    "pd.options.plotting.backend = \"plotly\""
   ],
   "metadata": {
    "collapsed": false,
    "ExecuteTime": {
     "end_time": "2024-01-25T13:42:54.493252285Z",
     "start_time": "2024-01-25T13:42:54.459494478Z"
    }
   },
   "id": "c8fbac051c3fda3",
   "execution_count": 2
  },
  {
   "cell_type": "markdown",
   "source": [
    "## Constants definition"
   ],
   "metadata": {
    "collapsed": false
   },
   "id": "e5f8e0c469706b5"
  },
  {
   "cell_type": "code",
   "outputs": [],
   "source": [
    "WEATHER_PATH: pathlib.Path = pathlib.Path(\"../data/predict-energy-behavior-of-prosumers/historical_weather.csv\")"
   ],
   "metadata": {
    "collapsed": false,
    "ExecuteTime": {
     "end_time": "2024-01-25T13:42:54.526549433Z",
     "start_time": "2024-01-25T13:42:54.508645190Z"
    }
   },
   "id": "3e882fc709acc072",
   "execution_count": 3
  },
  {
   "cell_type": "markdown",
   "source": [
    "## Data load"
   ],
   "metadata": {
    "collapsed": false
   },
   "id": "354d0fdd85d9e3a8"
  },
  {
   "cell_type": "markdown",
   "source": [
    "- **origin_date** - The date when the day-ahead prices became available.\n",
    "- **forecast_date** - Represents the start of the 1-hour period when the price is valid\n",
    "- **euros_per_mwh** - The price of electricity on the day ahead markets in euros per megawatt hour.\n",
    "- **data_block_id** - All rows sharing the same `data_block_id` will be available at the same forecast time. This is a function of what information is available when forecasts are actually made, at 11 AM each morning. For example, if the forecast weather `data_block_id` for predictins made on October 31st is 100 then the historic weather `data_block_id` for October 31st will be 101 as the historic weather data is only actually available the next day."
   ],
   "metadata": {
    "collapsed": false
   },
   "id": "9fc1163ab2265e21"
  },
  {
   "cell_type": "code",
   "outputs": [
    {
     "data": {
      "text/plain": "              datetime  temperature  dewpoint  rain  snowfall  \\\n0  2021-09-01 00:00:00         14.2      11.6   0.0       0.0   \n1  2021-09-01 00:00:00         13.9      11.5   0.0       0.0   \n2  2021-09-01 00:00:00         14.0      12.5   0.0       0.0   \n3  2021-09-01 00:00:00         14.6      11.5   0.0       0.0   \n4  2021-09-01 00:00:00         15.7      12.9   0.0       0.0   \n5  2021-09-01 00:00:00         16.0      11.4   0.0       0.0   \n6  2021-09-01 00:00:00         12.2      10.5   0.0       0.0   \n7  2021-09-01 00:00:00         12.2      10.5   0.0       0.0   \n8  2021-09-01 00:00:00         12.4      10.6   0.0       0.0   \n9  2021-09-01 00:00:00         12.9      11.0   0.0       0.0   \n\n   surface_pressure  cloudcover_total  cloudcover_low  cloudcover_mid  \\\n0            1015.9                31              31               0   \n1            1010.7                33              37               0   \n2            1015.0                31              34               0   \n3            1017.3                 0               0               0   \n4            1014.0                22              25               0   \n5            1016.7                15              12               7   \n6            1005.3                19               7               0   \n7            1006.1                28               8               0   \n8            1003.8                49              26               0   \n9            1003.7                81              56               3   \n\n   cloudcover_high  windspeed_10m  winddirection_10m  shortwave_radiation  \\\n0               11       7.083333                  8                  0.0   \n1                0       5.111111                359                  0.0   \n2                0       6.333333                355                  0.0   \n3                0       8.083333                297                358.0   \n4                0       8.416667                  5                  0.0   \n5                0       6.388889                297                349.0   \n6               41       4.111111                359                  0.0   \n7               68       4.111111                354                  0.0   \n8               85       4.250000                352                  0.0   \n9               96       4.250000                351                  0.0   \n\n   direct_solar_radiation  diffuse_radiation  latitude  longitude  \\\n0                     0.0                0.0      57.6       21.7   \n1                     0.0                0.0      57.6       22.2   \n2                     0.0                0.0      57.6       22.7   \n3                   277.0               81.0      57.6       23.2   \n4                     0.0                0.0      57.6       23.7   \n5                   274.0               75.0      57.6       24.2   \n6                     0.0                0.0      57.6       24.7   \n7                     0.0                0.0      57.6       25.2   \n8                     0.0                0.0      57.6       25.7   \n9                     0.0                0.0      57.6       26.2   \n\n   data_block_id  \n0            1.0  \n1            1.0  \n2            1.0  \n3            1.0  \n4            1.0  \n5            1.0  \n6            1.0  \n7            1.0  \n8            1.0  \n9            1.0  ",
      "text/html": "<div>\n<style scoped>\n    .dataframe tbody tr th:only-of-type {\n        vertical-align: middle;\n    }\n\n    .dataframe tbody tr th {\n        vertical-align: top;\n    }\n\n    .dataframe thead th {\n        text-align: right;\n    }\n</style>\n<table border=\"1\" class=\"dataframe\">\n  <thead>\n    <tr style=\"text-align: right;\">\n      <th></th>\n      <th>datetime</th>\n      <th>temperature</th>\n      <th>dewpoint</th>\n      <th>rain</th>\n      <th>snowfall</th>\n      <th>surface_pressure</th>\n      <th>cloudcover_total</th>\n      <th>cloudcover_low</th>\n      <th>cloudcover_mid</th>\n      <th>cloudcover_high</th>\n      <th>windspeed_10m</th>\n      <th>winddirection_10m</th>\n      <th>shortwave_radiation</th>\n      <th>direct_solar_radiation</th>\n      <th>diffuse_radiation</th>\n      <th>latitude</th>\n      <th>longitude</th>\n      <th>data_block_id</th>\n    </tr>\n  </thead>\n  <tbody>\n    <tr>\n      <th>0</th>\n      <td>2021-09-01 00:00:00</td>\n      <td>14.2</td>\n      <td>11.6</td>\n      <td>0.0</td>\n      <td>0.0</td>\n      <td>1015.9</td>\n      <td>31</td>\n      <td>31</td>\n      <td>0</td>\n      <td>11</td>\n      <td>7.083333</td>\n      <td>8</td>\n      <td>0.0</td>\n      <td>0.0</td>\n      <td>0.0</td>\n      <td>57.6</td>\n      <td>21.7</td>\n      <td>1.0</td>\n    </tr>\n    <tr>\n      <th>1</th>\n      <td>2021-09-01 00:00:00</td>\n      <td>13.9</td>\n      <td>11.5</td>\n      <td>0.0</td>\n      <td>0.0</td>\n      <td>1010.7</td>\n      <td>33</td>\n      <td>37</td>\n      <td>0</td>\n      <td>0</td>\n      <td>5.111111</td>\n      <td>359</td>\n      <td>0.0</td>\n      <td>0.0</td>\n      <td>0.0</td>\n      <td>57.6</td>\n      <td>22.2</td>\n      <td>1.0</td>\n    </tr>\n    <tr>\n      <th>2</th>\n      <td>2021-09-01 00:00:00</td>\n      <td>14.0</td>\n      <td>12.5</td>\n      <td>0.0</td>\n      <td>0.0</td>\n      <td>1015.0</td>\n      <td>31</td>\n      <td>34</td>\n      <td>0</td>\n      <td>0</td>\n      <td>6.333333</td>\n      <td>355</td>\n      <td>0.0</td>\n      <td>0.0</td>\n      <td>0.0</td>\n      <td>57.6</td>\n      <td>22.7</td>\n      <td>1.0</td>\n    </tr>\n    <tr>\n      <th>3</th>\n      <td>2021-09-01 00:00:00</td>\n      <td>14.6</td>\n      <td>11.5</td>\n      <td>0.0</td>\n      <td>0.0</td>\n      <td>1017.3</td>\n      <td>0</td>\n      <td>0</td>\n      <td>0</td>\n      <td>0</td>\n      <td>8.083333</td>\n      <td>297</td>\n      <td>358.0</td>\n      <td>277.0</td>\n      <td>81.0</td>\n      <td>57.6</td>\n      <td>23.2</td>\n      <td>1.0</td>\n    </tr>\n    <tr>\n      <th>4</th>\n      <td>2021-09-01 00:00:00</td>\n      <td>15.7</td>\n      <td>12.9</td>\n      <td>0.0</td>\n      <td>0.0</td>\n      <td>1014.0</td>\n      <td>22</td>\n      <td>25</td>\n      <td>0</td>\n      <td>0</td>\n      <td>8.416667</td>\n      <td>5</td>\n      <td>0.0</td>\n      <td>0.0</td>\n      <td>0.0</td>\n      <td>57.6</td>\n      <td>23.7</td>\n      <td>1.0</td>\n    </tr>\n    <tr>\n      <th>5</th>\n      <td>2021-09-01 00:00:00</td>\n      <td>16.0</td>\n      <td>11.4</td>\n      <td>0.0</td>\n      <td>0.0</td>\n      <td>1016.7</td>\n      <td>15</td>\n      <td>12</td>\n      <td>7</td>\n      <td>0</td>\n      <td>6.388889</td>\n      <td>297</td>\n      <td>349.0</td>\n      <td>274.0</td>\n      <td>75.0</td>\n      <td>57.6</td>\n      <td>24.2</td>\n      <td>1.0</td>\n    </tr>\n    <tr>\n      <th>6</th>\n      <td>2021-09-01 00:00:00</td>\n      <td>12.2</td>\n      <td>10.5</td>\n      <td>0.0</td>\n      <td>0.0</td>\n      <td>1005.3</td>\n      <td>19</td>\n      <td>7</td>\n      <td>0</td>\n      <td>41</td>\n      <td>4.111111</td>\n      <td>359</td>\n      <td>0.0</td>\n      <td>0.0</td>\n      <td>0.0</td>\n      <td>57.6</td>\n      <td>24.7</td>\n      <td>1.0</td>\n    </tr>\n    <tr>\n      <th>7</th>\n      <td>2021-09-01 00:00:00</td>\n      <td>12.2</td>\n      <td>10.5</td>\n      <td>0.0</td>\n      <td>0.0</td>\n      <td>1006.1</td>\n      <td>28</td>\n      <td>8</td>\n      <td>0</td>\n      <td>68</td>\n      <td>4.111111</td>\n      <td>354</td>\n      <td>0.0</td>\n      <td>0.0</td>\n      <td>0.0</td>\n      <td>57.6</td>\n      <td>25.2</td>\n      <td>1.0</td>\n    </tr>\n    <tr>\n      <th>8</th>\n      <td>2021-09-01 00:00:00</td>\n      <td>12.4</td>\n      <td>10.6</td>\n      <td>0.0</td>\n      <td>0.0</td>\n      <td>1003.8</td>\n      <td>49</td>\n      <td>26</td>\n      <td>0</td>\n      <td>85</td>\n      <td>4.250000</td>\n      <td>352</td>\n      <td>0.0</td>\n      <td>0.0</td>\n      <td>0.0</td>\n      <td>57.6</td>\n      <td>25.7</td>\n      <td>1.0</td>\n    </tr>\n    <tr>\n      <th>9</th>\n      <td>2021-09-01 00:00:00</td>\n      <td>12.9</td>\n      <td>11.0</td>\n      <td>0.0</td>\n      <td>0.0</td>\n      <td>1003.7</td>\n      <td>81</td>\n      <td>56</td>\n      <td>3</td>\n      <td>96</td>\n      <td>4.250000</td>\n      <td>351</td>\n      <td>0.0</td>\n      <td>0.0</td>\n      <td>0.0</td>\n      <td>57.6</td>\n      <td>26.2</td>\n      <td>1.0</td>\n    </tr>\n  </tbody>\n</table>\n</div>"
     },
     "execution_count": 11,
     "metadata": {},
     "output_type": "execute_result"
    }
   ],
   "source": [
    "weather: pd.DataFrame = pd.read_csv(WEATHER_PATH)\n",
    "weather.head(10)"
   ],
   "metadata": {
    "collapsed": false,
    "ExecuteTime": {
     "end_time": "2024-01-25T13:44:40.316061287Z",
     "start_time": "2024-01-25T13:44:38.899371752Z"
    }
   },
   "id": "333b676c938e605f",
   "execution_count": 11
  },
  {
   "cell_type": "code",
   "outputs": [
    {
     "data": {
      "text/plain": "Index(['datetime', 'temperature', 'dewpoint', 'rain', 'snowfall',\n       'surface_pressure', 'cloudcover_total', 'cloudcover_low',\n       'cloudcover_mid', 'cloudcover_high', 'windspeed_10m',\n       'winddirection_10m', 'shortwave_radiation', 'direct_solar_radiation',\n       'diffuse_radiation', 'latitude', 'longitude', 'data_block_id'],\n      dtype='object')"
     },
     "execution_count": 5,
     "metadata": {},
     "output_type": "execute_result"
    }
   ],
   "source": [
    "weather.columns"
   ],
   "metadata": {
    "collapsed": false,
    "ExecuteTime": {
     "end_time": "2024-01-25T13:42:55.960771355Z",
     "start_time": "2024-01-25T13:42:55.958468701Z"
    }
   },
   "id": "470e6aec256873ec",
   "execution_count": 5
  },
  {
   "cell_type": "code",
   "outputs": [
    {
     "data": {
      "text/plain": "datetime                   object\ntemperature               float64\ndewpoint                  float64\nrain                      float64\nsnowfall                  float64\nsurface_pressure          float64\ncloudcover_total            int64\ncloudcover_low              int64\ncloudcover_mid              int64\ncloudcover_high             int64\nwindspeed_10m             float64\nwinddirection_10m           int64\nshortwave_radiation       float64\ndirect_solar_radiation    float64\ndiffuse_radiation         float64\nlatitude                  float64\nlongitude                 float64\ndata_block_id             float64\ndtype: object"
     },
     "execution_count": 6,
     "metadata": {},
     "output_type": "execute_result"
    }
   ],
   "source": [
    "weather.dtypes"
   ],
   "metadata": {
    "collapsed": false,
    "ExecuteTime": {
     "end_time": "2024-01-25T13:42:55.974517523Z",
     "start_time": "2024-01-25T13:42:55.960858239Z"
    }
   },
   "id": "c52211630efd156b",
   "execution_count": 6
  },
  {
   "cell_type": "markdown",
   "source": [
    "## EDA"
   ],
   "metadata": {
    "collapsed": false
   },
   "id": "d4f140638742c9cd"
  },
  {
   "cell_type": "markdown",
   "source": [
    "### Check database info"
   ],
   "metadata": {
    "collapsed": false
   },
   "id": "1b2d58976b247ab"
  },
  {
   "cell_type": "code",
   "outputs": [
    {
     "name": "stdout",
     "output_type": "stream",
     "text": [
      "<class 'pandas.core.frame.DataFrame'>\n",
      "RangeIndex: 1710802 entries, 0 to 1710801\n",
      "Data columns (total 18 columns):\n",
      " #   Column                  Non-Null Count    Dtype  \n",
      "---  ------                  --------------    -----  \n",
      " 0   datetime                1710802 non-null  object \n",
      " 1   temperature             1710802 non-null  float64\n",
      " 2   dewpoint                1710802 non-null  float64\n",
      " 3   rain                    1710802 non-null  float64\n",
      " 4   snowfall                1710802 non-null  float64\n",
      " 5   surface_pressure        1710802 non-null  float64\n",
      " 6   cloudcover_total        1710802 non-null  int64  \n",
      " 7   cloudcover_low          1710802 non-null  int64  \n",
      " 8   cloudcover_mid          1710802 non-null  int64  \n",
      " 9   cloudcover_high         1710802 non-null  int64  \n",
      " 10  windspeed_10m           1710802 non-null  float64\n",
      " 11  winddirection_10m       1710802 non-null  int64  \n",
      " 12  shortwave_radiation     1710802 non-null  float64\n",
      " 13  direct_solar_radiation  1710802 non-null  float64\n",
      " 14  diffuse_radiation       1710802 non-null  float64\n",
      " 15  latitude                1710802 non-null  float64\n",
      " 16  longitude               1710802 non-null  float64\n",
      " 17  data_block_id           1710802 non-null  float64\n",
      "dtypes: float64(12), int64(5), object(1)\n",
      "memory usage: 345.9 MB\n"
     ]
    }
   ],
   "source": [
    "weather.info(verbose=True, memory_usage=\"deep\", show_counts=True)"
   ],
   "metadata": {
    "collapsed": false,
    "ExecuteTime": {
     "end_time": "2024-01-25T13:44:08.595447461Z",
     "start_time": "2024-01-25T13:44:08.356876072Z"
    }
   },
   "id": "1109d6682dc31ae6",
   "execution_count": 10
  },
  {
   "cell_type": "code",
   "outputs": [
    {
     "data": {
      "text/plain": "        temperature      dewpoint          rain      snowfall  \\\ncount  1.710802e+06  1.710802e+06  1.710802e+06  1.710802e+06   \nmean   5.740968e+00  2.240312e+00  4.962012e-02  1.604896e-02   \nstd    8.025647e+00  7.224357e+00  2.079113e-01  7.462936e-02   \nmin   -2.370000e+01 -2.590000e+01  0.000000e+00  0.000000e+00   \n25%    0.000000e+00 -2.600000e+00  0.000000e+00  0.000000e+00   \n50%    5.100000e+00  1.700000e+00  0.000000e+00  0.000000e+00   \n75%    1.120000e+01  7.200000e+00  0.000000e+00  0.000000e+00   \nmax    3.260000e+01  2.380000e+01  1.680000e+01  2.660000e+00   \n\n       surface_pressure  cloudcover_total  cloudcover_low  cloudcover_mid  \\\ncount      1.710802e+06      1.710802e+06    1.710802e+06    1.710802e+06   \nmean       1.009282e+03      6.091270e+01    4.668593e+01    3.440698e+01   \nstd        1.308891e+01      3.776905e+01    4.074760e+01    3.832769e+01   \nmin        9.429000e+02      0.000000e+00    0.000000e+00    0.000000e+00   \n25%        1.001500e+03      2.500000e+01    3.000000e+00    0.000000e+00   \n50%        1.010400e+03      7.200000e+01    3.900000e+01    1.600000e+01   \n75%        1.018000e+03      1.000000e+02    9.400000e+01    7.200000e+01   \nmax        1.049300e+03      1.000000e+02    1.000000e+02    1.000000e+02   \n\n       cloudcover_high  windspeed_10m  winddirection_10m  shortwave_radiation  \\\ncount     1.710802e+06   1.710802e+06       1.710802e+06         1.710802e+06   \nmean      3.605141e+01   4.849871e+00       1.978694e+02         1.064905e+02   \nstd       4.135852e+01   2.475450e+00       8.993798e+01         1.799449e+02   \nmin       0.000000e+00   0.000000e+00       0.000000e+00         0.000000e+00   \n25%       0.000000e+00   3.000000e+00       1.390000e+02         0.000000e+00   \n50%       1.000000e+01   4.500000e+00       2.080000e+02         1.000000e+00   \n75%       8.500000e+01   6.277778e+00       2.630000e+02         1.400000e+02   \nmax       1.000000e+02   2.175000e+01       3.600000e+02         8.490000e+02   \n\n       direct_solar_radiation  diffuse_radiation      latitude     longitude  \\\ncount            1.710802e+06       1.710802e+06  1.710802e+06  1.710802e+06   \nmean             6.445292e+01       4.203759e+01  5.865000e+01  2.495000e+01   \nstd              1.334100e+02       6.195225e+01  6.873871e-01  2.015564e+00   \nmin              0.000000e+00       0.000000e+00  5.760000e+01  2.170000e+01   \n25%              0.000000e+00       0.000000e+00  5.790000e+01  2.320000e+01   \n50%              0.000000e+00       1.000000e+00  5.850000e+01  2.470000e+01   \n75%              4.700000e+01       7.400000e+01  5.910000e+01  2.670000e+01   \nmax              7.540000e+02       3.880000e+02  5.970000e+01  2.820000e+01   \n\n       data_block_id  \ncount   1.710802e+06  \nmean    3.192708e+02  \nstd     1.837298e+02  \nmin     1.000000e+00  \n25%     1.600000e+02  \n50%     3.190000e+02  \n75%     4.780000e+02  \nmax     6.370000e+02  ",
      "text/html": "<div>\n<style scoped>\n    .dataframe tbody tr th:only-of-type {\n        vertical-align: middle;\n    }\n\n    .dataframe tbody tr th {\n        vertical-align: top;\n    }\n\n    .dataframe thead th {\n        text-align: right;\n    }\n</style>\n<table border=\"1\" class=\"dataframe\">\n  <thead>\n    <tr style=\"text-align: right;\">\n      <th></th>\n      <th>temperature</th>\n      <th>dewpoint</th>\n      <th>rain</th>\n      <th>snowfall</th>\n      <th>surface_pressure</th>\n      <th>cloudcover_total</th>\n      <th>cloudcover_low</th>\n      <th>cloudcover_mid</th>\n      <th>cloudcover_high</th>\n      <th>windspeed_10m</th>\n      <th>winddirection_10m</th>\n      <th>shortwave_radiation</th>\n      <th>direct_solar_radiation</th>\n      <th>diffuse_radiation</th>\n      <th>latitude</th>\n      <th>longitude</th>\n      <th>data_block_id</th>\n    </tr>\n  </thead>\n  <tbody>\n    <tr>\n      <th>count</th>\n      <td>1.710802e+06</td>\n      <td>1.710802e+06</td>\n      <td>1.710802e+06</td>\n      <td>1.710802e+06</td>\n      <td>1.710802e+06</td>\n      <td>1.710802e+06</td>\n      <td>1.710802e+06</td>\n      <td>1.710802e+06</td>\n      <td>1.710802e+06</td>\n      <td>1.710802e+06</td>\n      <td>1.710802e+06</td>\n      <td>1.710802e+06</td>\n      <td>1.710802e+06</td>\n      <td>1.710802e+06</td>\n      <td>1.710802e+06</td>\n      <td>1.710802e+06</td>\n      <td>1.710802e+06</td>\n    </tr>\n    <tr>\n      <th>mean</th>\n      <td>5.740968e+00</td>\n      <td>2.240312e+00</td>\n      <td>4.962012e-02</td>\n      <td>1.604896e-02</td>\n      <td>1.009282e+03</td>\n      <td>6.091270e+01</td>\n      <td>4.668593e+01</td>\n      <td>3.440698e+01</td>\n      <td>3.605141e+01</td>\n      <td>4.849871e+00</td>\n      <td>1.978694e+02</td>\n      <td>1.064905e+02</td>\n      <td>6.445292e+01</td>\n      <td>4.203759e+01</td>\n      <td>5.865000e+01</td>\n      <td>2.495000e+01</td>\n      <td>3.192708e+02</td>\n    </tr>\n    <tr>\n      <th>std</th>\n      <td>8.025647e+00</td>\n      <td>7.224357e+00</td>\n      <td>2.079113e-01</td>\n      <td>7.462936e-02</td>\n      <td>1.308891e+01</td>\n      <td>3.776905e+01</td>\n      <td>4.074760e+01</td>\n      <td>3.832769e+01</td>\n      <td>4.135852e+01</td>\n      <td>2.475450e+00</td>\n      <td>8.993798e+01</td>\n      <td>1.799449e+02</td>\n      <td>1.334100e+02</td>\n      <td>6.195225e+01</td>\n      <td>6.873871e-01</td>\n      <td>2.015564e+00</td>\n      <td>1.837298e+02</td>\n    </tr>\n    <tr>\n      <th>min</th>\n      <td>-2.370000e+01</td>\n      <td>-2.590000e+01</td>\n      <td>0.000000e+00</td>\n      <td>0.000000e+00</td>\n      <td>9.429000e+02</td>\n      <td>0.000000e+00</td>\n      <td>0.000000e+00</td>\n      <td>0.000000e+00</td>\n      <td>0.000000e+00</td>\n      <td>0.000000e+00</td>\n      <td>0.000000e+00</td>\n      <td>0.000000e+00</td>\n      <td>0.000000e+00</td>\n      <td>0.000000e+00</td>\n      <td>5.760000e+01</td>\n      <td>2.170000e+01</td>\n      <td>1.000000e+00</td>\n    </tr>\n    <tr>\n      <th>25%</th>\n      <td>0.000000e+00</td>\n      <td>-2.600000e+00</td>\n      <td>0.000000e+00</td>\n      <td>0.000000e+00</td>\n      <td>1.001500e+03</td>\n      <td>2.500000e+01</td>\n      <td>3.000000e+00</td>\n      <td>0.000000e+00</td>\n      <td>0.000000e+00</td>\n      <td>3.000000e+00</td>\n      <td>1.390000e+02</td>\n      <td>0.000000e+00</td>\n      <td>0.000000e+00</td>\n      <td>0.000000e+00</td>\n      <td>5.790000e+01</td>\n      <td>2.320000e+01</td>\n      <td>1.600000e+02</td>\n    </tr>\n    <tr>\n      <th>50%</th>\n      <td>5.100000e+00</td>\n      <td>1.700000e+00</td>\n      <td>0.000000e+00</td>\n      <td>0.000000e+00</td>\n      <td>1.010400e+03</td>\n      <td>7.200000e+01</td>\n      <td>3.900000e+01</td>\n      <td>1.600000e+01</td>\n      <td>1.000000e+01</td>\n      <td>4.500000e+00</td>\n      <td>2.080000e+02</td>\n      <td>1.000000e+00</td>\n      <td>0.000000e+00</td>\n      <td>1.000000e+00</td>\n      <td>5.850000e+01</td>\n      <td>2.470000e+01</td>\n      <td>3.190000e+02</td>\n    </tr>\n    <tr>\n      <th>75%</th>\n      <td>1.120000e+01</td>\n      <td>7.200000e+00</td>\n      <td>0.000000e+00</td>\n      <td>0.000000e+00</td>\n      <td>1.018000e+03</td>\n      <td>1.000000e+02</td>\n      <td>9.400000e+01</td>\n      <td>7.200000e+01</td>\n      <td>8.500000e+01</td>\n      <td>6.277778e+00</td>\n      <td>2.630000e+02</td>\n      <td>1.400000e+02</td>\n      <td>4.700000e+01</td>\n      <td>7.400000e+01</td>\n      <td>5.910000e+01</td>\n      <td>2.670000e+01</td>\n      <td>4.780000e+02</td>\n    </tr>\n    <tr>\n      <th>max</th>\n      <td>3.260000e+01</td>\n      <td>2.380000e+01</td>\n      <td>1.680000e+01</td>\n      <td>2.660000e+00</td>\n      <td>1.049300e+03</td>\n      <td>1.000000e+02</td>\n      <td>1.000000e+02</td>\n      <td>1.000000e+02</td>\n      <td>1.000000e+02</td>\n      <td>2.175000e+01</td>\n      <td>3.600000e+02</td>\n      <td>8.490000e+02</td>\n      <td>7.540000e+02</td>\n      <td>3.880000e+02</td>\n      <td>5.970000e+01</td>\n      <td>2.820000e+01</td>\n      <td>6.370000e+02</td>\n    </tr>\n  </tbody>\n</table>\n</div>"
     },
     "execution_count": 8,
     "metadata": {},
     "output_type": "execute_result"
    }
   ],
   "source": [
    "weather.describe()"
   ],
   "metadata": {
    "collapsed": false,
    "ExecuteTime": {
     "end_time": "2024-01-25T13:42:56.503290305Z",
     "start_time": "2024-01-25T13:42:56.020590437Z"
    }
   },
   "id": "1adcf9973db8f858",
   "execution_count": 8
  },
  {
   "cell_type": "markdown",
   "source": [
    "## Conclusion"
   ],
   "metadata": {
    "collapsed": false
   },
   "id": "98f613dc51f8c83c"
  },
  {
   "cell_type": "markdown",
   "source": [
    "1. molto semplice, bisogna solo convertire le colonne"
   ],
   "metadata": {
    "collapsed": false
   },
   "id": "b305ea3f507418e4"
  }
 ],
 "metadata": {
  "kernelspec": {
   "display_name": "Python 3",
   "language": "python",
   "name": "python3"
  },
  "language_info": {
   "codemirror_mode": {
    "name": "ipython",
    "version": 2
   },
   "file_extension": ".py",
   "mimetype": "text/x-python",
   "name": "python",
   "nbconvert_exporter": "python",
   "pygments_lexer": "ipython2",
   "version": "2.7.6"
  }
 },
 "nbformat": 4,
 "nbformat_minor": 5
}
