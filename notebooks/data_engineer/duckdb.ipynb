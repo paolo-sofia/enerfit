{
 "cells": [
  {
   "cell_type": "code",
   "execution_count": 1,
   "id": "initial_id",
   "metadata": {
    "collapsed": true,
    "ExecuteTime": {
     "end_time": "2024-02-08T09:42:02.228454070Z",
     "start_time": "2024-02-08T09:42:02.185017202Z"
    }
   },
   "outputs": [],
   "source": [
    "import duckdb\n",
    "import polars as pl\n",
    "import pathlib"
   ]
  },
  {
   "cell_type": "code",
   "outputs": [],
   "source": [
    "BASE_DATA_PATH: pathlib.Path = pathlib.Path().absolute().parent.parent / \"data\" / \"raw\"\n",
    "\n",
    "CLIENTS_PATH: pathlib.Path = BASE_DATA_PATH / \"clients\"\n",
    "ELECTRICITY_PATH: pathlib.Path = BASE_DATA_PATH / \"electricity\"\n",
    "GAS_PATH: pathlib.Path = BASE_DATA_PATH / \"gas\"\n",
    "HISTORICAL_WEATHER_PATH: pathlib.Path = BASE_DATA_PATH / \"historical_weather\"\n",
    "WEATHER_FORECAST_PATH: pathlib.Path = BASE_DATA_PATH / \"weather_forecast\"\n",
    "TRAIN_PATH: pathlib.Path = BASE_DATA_PATH / \"train\"\n",
    "WEATHER_STATION_COUNTY_PATH: pathlib.Path = BASE_DATA_PATH / \"weather_station_to_county_mapping.csv\"\n",
    "COUNTY_MAP_PATH: pathlib.Path = BASE_DATA_PATH / \"county_id_to_name_map.json\""
   ],
   "metadata": {
    "collapsed": false,
    "ExecuteTime": {
     "end_time": "2024-02-08T09:42:02.228710293Z",
     "start_time": "2024-02-08T09:42:02.226985909Z"
    }
   },
   "id": "4ab6cc401fdca423",
   "execution_count": 2
  },
  {
   "cell_type": "code",
   "outputs": [],
   "source": [
    "connection = duckdb.connect('localhost')"
   ],
   "metadata": {
    "collapsed": false,
    "ExecuteTime": {
     "end_time": "2024-02-08T09:42:02.259309453Z",
     "start_time": "2024-02-08T09:42:02.232784351Z"
    }
   },
   "id": "464817901bf4324e",
   "execution_count": 3
  },
  {
   "cell_type": "code",
   "outputs": [],
   "source": [
    "def load_train_duckdb(train_dir: pathlib.Path) -> duckdb.DuckDBPyRelation:\n",
    "    return connection.sql(f\"\"\"\n",
    "    SELECT\n",
    "        datetime::TIMESTAMP as datetime,\n",
    "        is_business::BOOLEAN as is_business,\n",
    "        product_type::TINYINT as product_type,\n",
    "        target::FLOAT as target,\n",
    "        is_consumption::TINYINT as is_consumption,\n",
    "        county::TINYINT as county,\n",
    "        data_block_id::SMALLINT as data_block_id,\n",
    "        date_part('year', datetime::TIMESTAMP)::SMALLINT as year,\n",
    "        date_part('month', datetime::TIMESTAMP)::TINYINT as month,\n",
    "        date_part('day', datetime::TIMESTAMP)::TINYINT as day,\n",
    "        datetime::DATE as date,\n",
    "        dayname(datetime::TIMESTAMP) as weekday,\n",
    "        date_part('hour', datetime::TIMESTAMP)::tinyint as hour,\n",
    "        date_part('dayofyear', datetime::TIMESTAMP)::SMALLINT as day_of_year\n",
    "    FROM\n",
    "        read_csv_auto('{train_dir}/*')\n",
    "    \"\"\")\n",
    "\n",
    "def load_clients_duckdb(clients_dir: pathlib.Path) -> duckdb.DuckDBPyRelation:\n",
    "    return connection.sql(f\"\"\"\n",
    "    SELECT\n",
    "        date::DATE as date,\n",
    "        product_type::TINYINT AS product_type,\n",
    "        is_business::BOOLEAN as is_business,\n",
    "        installed_capacity::INTEGER as installed_capacity,\n",
    "        eic_count::SMALLINT as eic_count,\n",
    "        county::TINYINT as county,\n",
    "        data_block_id::SMALLINT as data_block_id,\n",
    "    FROM\n",
    "        read_csv_auto('{clients_dir}/*')\n",
    "    \"\"\")"
   ],
   "metadata": {
    "collapsed": false,
    "ExecuteTime": {
     "end_time": "2024-02-08T09:42:02.259595874Z",
     "start_time": "2024-02-08T09:42:02.249208574Z"
    }
   },
   "id": "a9828fd69d315d7e",
   "execution_count": 4
  },
  {
   "cell_type": "code",
   "outputs": [],
   "source": [
    "DATETIME_FORMAT: str = \"%Y-%m-%d %H:%M:%S\"\n",
    "DATE_FORMAT: str = \"%Y-%m-%d\"\n",
    "\n",
    "def load_train_polars(train_path: pathlib.Path) -> pl.LazyFrame:\n",
    "    \"\"\"Load the training data from a CSV file and perform data transformations.\n",
    "\n",
    "    Args:\n",
    "        train_path (pathlib.Path): The path to the training data CSV file.\n",
    "\n",
    "    Returns:\n",
    "        pl.LazyFrame: A lazy frame containing the loaded training data with transformed columns.\n",
    "\n",
    "    Examples:\n",
    "        >>> train_path = pathlib.Path(\"train.csv\")\n",
    "        >>> train_data = load_train(train_path)\n",
    "        >>> # Perform operations on the loaded training data\n",
    "    \"\"\"\n",
    "    train: pl.LazyFrame = pl.scan_csv(train_path)\n",
    "\n",
    "    train = train.drop([\"prediction_unit_id\", \"row_id\"]).with_columns(\n",
    "        pl.col(\"datetime\").str.to_datetime(DATETIME_FORMAT),\n",
    "        pl.col(\"is_business\").cast(pl.Int8),\n",
    "        pl.col(\"product_type\").cast(pl.Int8),\n",
    "        pl.col(\"target\").cast(pl.Float32),\n",
    "        pl.col(\"is_consumption\").cast(pl.Int8),\n",
    "        pl.col(\"county\").cast(pl.Int8),\n",
    "        pl.col(\"data_block_id\").cast(pl.Int16),\n",
    "    )\n",
    "    return train.with_columns(\n",
    "        pl.col(\"datetime\").cast(pl.Date).alias(\"date\"),\n",
    "        pl.col(\"datetime\").dt.year().alias(\"year\"),\n",
    "        pl.col(\"datetime\").dt.month().alias(\"month\"),\n",
    "        pl.col(\"datetime\").dt.day().alias(\"day\"),\n",
    "        pl.col(\"datetime\").dt.weekday().alias(\"weekday\"),\n",
    "        pl.col(\"datetime\").dt.ordinal_day().alias(\"day_of_year\"),\n",
    "        pl.col(\"datetime\").dt.hour().alias(\"hour\"),\n",
    "    )\n",
    "\n",
    "def load_clients_polars(clients_path: pathlib.Path) -> pl.LazyFrame:\n",
    "    \"\"\"Load the clients data from a CSV file and perform column type conversions.\n",
    "\n",
    "    Args:\n",
    "        clients_path (pathlib.Path): The path to the clients CSV file.\n",
    "\n",
    "    Returns:\n",
    "        pl.LazyFrame: A lazy frame containing the loaded clients data with converted column types.\n",
    "\n",
    "    Examples:\n",
    "        >>> clients_path = pathlib.Path(\"clients.csv\")\n",
    "        >>> clients_data = load_clients(clients_path)\n",
    "        >>> # Perform operations on the loaded clients data\n",
    "    \"\"\"\n",
    "    clients: pl.LazyFrame = pl.scan_csv(clients_path)\n",
    "    return clients.with_columns(\n",
    "        [\n",
    "            pl.col(\"product_type\").cast(pl.Int8),\n",
    "            pl.col(\"county\").cast(pl.Int8),\n",
    "            pl.col(\"eic_count\").cast(pl.Int16),\n",
    "            pl.col(\"installed_capacity\").cast(pl.Float32),\n",
    "            pl.col(\"is_business\").cast(pl.Int8),\n",
    "            pl.col(\"date\").str.to_date(DATE_FORMAT),\n",
    "            pl.col(\"data_block_id\").cast(pl.Int16),\n",
    "        ]\n",
    "    )"
   ],
   "metadata": {
    "collapsed": false,
    "ExecuteTime": {
     "end_time": "2024-02-08T09:42:02.259802574Z",
     "start_time": "2024-02-08T09:42:02.249386490Z"
    }
   },
   "id": "fcbf5ac0715beb24",
   "execution_count": 5
  },
  {
   "cell_type": "code",
   "outputs": [
    {
     "name": "stdout",
     "output_type": "stream",
     "text": [
      "463 ms ± 19 ms per loop (mean ± std. dev. of 7 runs, 1 loop each)\n"
     ]
    }
   ],
   "source": [
    "%%timeit\n",
    "\n",
    "train_duckdb = load_train_duckdb(TRAIN_PATH)\n",
    "clients_duckdb = load_clients_duckdb(CLIENTS_PATH)\n",
    "\n",
    "connection.register(\"train\", train_duckdb)\n",
    "connection.register(\"clients\", clients_duckdb)\n",
    "\n",
    "connection.sql(\"\"\"\n",
    "SELECT\n",
    "    *\n",
    "FROM\n",
    "    train\n",
    "LEFT JOIN clients ON train.county = clients.county AND train.is_business = clients.is_business AND train.product_type = clients.product_type AND train.data_block_id = clients.data_block_id \n",
    "\"\"\")"
   ],
   "metadata": {
    "collapsed": false,
    "ExecuteTime": {
     "end_time": "2024-02-08T09:42:34.758368391Z",
     "start_time": "2024-02-08T09:42:31.232632506Z"
    }
   },
   "id": "9cef23592f8e5b29",
   "execution_count": 9
  },
  {
   "cell_type": "code",
   "outputs": [
    {
     "name": "stdout",
     "output_type": "stream",
     "text": [
      "265 ms ± 13 ms per loop (mean ± std. dev. of 7 runs, 1 loop each)\n"
     ]
    }
   ],
   "source": [
    "%%timeit\n",
    "\n",
    "train_polars = load_train_polars(TRAIN_PATH / \"train.csv\")\n",
    "clients_polars = load_clients_polars(CLIENTS_PATH / \"client.csv\")\n",
    "\n",
    "data = train_polars.join(\n",
    "    other=clients_polars,\n",
    "    how=\"left\",\n",
    "    on=[\"county\", \"is_business\", \"product_type\", \"data_block_id\"],\n",
    "    suffix=\"_client\",\n",
    ").collect().to_pandas()"
   ],
   "metadata": {
    "collapsed": false,
    "ExecuteTime": {
     "end_time": "2024-02-08T09:42:36.883088647Z",
     "start_time": "2024-02-08T09:42:34.751011248Z"
    }
   },
   "id": "b33fb2de89476562",
   "execution_count": 10
  }
 ],
 "metadata": {
  "kernelspec": {
   "display_name": "Python 3",
   "language": "python",
   "name": "python3"
  },
  "language_info": {
   "codemirror_mode": {
    "name": "ipython",
    "version": 2
   },
   "file_extension": ".py",
   "mimetype": "text/x-python",
   "name": "python",
   "nbconvert_exporter": "python",
   "pygments_lexer": "ipython2",
   "version": "2.7.6"
  }
 },
 "nbformat": 4,
 "nbformat_minor": 5
}
