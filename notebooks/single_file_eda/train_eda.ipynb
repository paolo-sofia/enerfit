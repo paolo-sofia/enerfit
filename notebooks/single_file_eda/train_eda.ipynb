{
 "cells": [
  {
   "cell_type": "markdown",
   "source": [
    "## Risorse\n",
    "- https://www.kaggle.com/code/vitalykudelya/explain-dataset-and-baseline\n",
    "- "
   ],
   "metadata": {
    "collapsed": false
   },
   "id": "2aed1d075e4af8a5"
  },
  {
   "cell_type": "markdown",
   "source": [
    "## Imports"
   ],
   "metadata": {
    "collapsed": false
   },
   "id": "ed1c7523093985ca"
  },
  {
   "cell_type": "code",
   "execution_count": null,
   "id": "initial_id",
   "metadata": {
    "collapsed": true
   },
   "outputs": [],
   "source": [
    "import pathlib\n",
    "\n",
    "import pandas as pd\n",
    "import plotly.express as px"
   ]
  },
  {
   "cell_type": "markdown",
   "source": [
    "## Environment variables"
   ],
   "metadata": {
    "collapsed": false
   },
   "id": "b4404ceb4aa33ddb"
  },
  {
   "cell_type": "markdown",
   "source": [],
   "metadata": {
    "collapsed": false
   },
   "id": "e94f8929a824c153"
  },
  {
   "cell_type": "code",
   "outputs": [],
   "source": [
    "pd.options.plotting.backend = \"plotly\"\n",
    "pd.options.display.float_format = '{:.3f}'.format"
   ],
   "metadata": {
    "collapsed": false
   },
   "id": "c8fbac051c3fda3",
   "execution_count": null
  },
  {
   "cell_type": "markdown",
   "source": [
    "## Constants definition"
   ],
   "metadata": {
    "collapsed": false
   },
   "id": "e5f8e0c469706b5"
  },
  {
   "cell_type": "code",
   "outputs": [],
   "source": [
    "TRAIN_PATH: pathlib.Path = pathlib.Path().absolute().parent.parent / \"data\" / \"predict-energy-behavior-of-prosumers\" / \"train.csv\"\n",
    "TRAIN_PATH"
   ],
   "metadata": {
    "collapsed": false
   },
   "id": "3e882fc709acc072",
   "execution_count": null
  },
  {
   "cell_type": "markdown",
   "source": [
    "## Data load"
   ],
   "metadata": {
    "collapsed": false
   },
   "id": "354d0fdd85d9e3a8"
  },
  {
   "cell_type": "markdown",
   "source": [
    "- **origin_date** - The date when the day-ahead prices became available.\n",
    "- **forecast_date** - Represents the start of the 1-hour period when the price is valid\n",
    "- **euros_per_mwh** - The price of electricity on the day ahead markets in euros per megawatt hour.\n",
    "- **data_block_id** - All rows sharing the same `data_block_id` will be available at the same forecast time. This is a function of what information is available when forecasts are actually made, at 11 AM each morning. For example, if the forecast weather `data_block_id` for predictins made on October 31st is 100 then the historic weather `data_block_id` for October 31st will be 101 as the historic weather data is only actually available the next day."
   ],
   "metadata": {
    "collapsed": false
   },
   "id": "9fc1163ab2265e21"
  },
  {
   "cell_type": "code",
   "outputs": [
    {
     "data": {
      "text/plain": "      county  is_business  product_type  target  is_consumption  \\\n0          0            0             1   2.403               0   \n1          0            0             1 516.958               1   \n2          0            0             1   2.336               0   \n3          0            0             1 470.284               1   \n4          0            0             1   1.810               0   \n...      ...          ...           ...     ...             ...   \n3115      14            1             2   6.911               1   \n3116      14            1             2   0.017               0   \n3117      14            1             2  10.401               1   \n3118      14            1             2   0.000               0   \n3119      14            1             2  10.859               1   \n\n                 datetime  data_block_id   row_id  prediction_unit_id  \n0     2023-05-31 00:00:00            637  2015232                   0  \n1     2023-05-31 00:00:00            637  2015233                   0  \n2     2023-05-31 01:00:00            637  2015362                   0  \n3     2023-05-31 01:00:00            637  2015363                   0  \n4     2023-05-31 02:00:00            637  2015492                   0  \n...                   ...            ...      ...                 ...  \n3115  2023-05-31 21:00:00            637  2018079                  68  \n3116  2023-05-31 22:00:00            637  2018208                  68  \n3117  2023-05-31 22:00:00            637  2018209                  68  \n3118  2023-05-31 23:00:00            637  2018338                  68  \n3119  2023-05-31 23:00:00            637  2018339                  68  \n\n[3120 rows x 9 columns]",
      "text/html": "<div>\n<style scoped>\n    .dataframe tbody tr th:only-of-type {\n        vertical-align: middle;\n    }\n\n    .dataframe tbody tr th {\n        vertical-align: top;\n    }\n\n    .dataframe thead th {\n        text-align: right;\n    }\n</style>\n<table border=\"1\" class=\"dataframe\">\n  <thead>\n    <tr style=\"text-align: right;\">\n      <th></th>\n      <th>county</th>\n      <th>is_business</th>\n      <th>product_type</th>\n      <th>target</th>\n      <th>is_consumption</th>\n      <th>datetime</th>\n      <th>data_block_id</th>\n      <th>row_id</th>\n      <th>prediction_unit_id</th>\n    </tr>\n  </thead>\n  <tbody>\n    <tr>\n      <th>0</th>\n      <td>0</td>\n      <td>0</td>\n      <td>1</td>\n      <td>2.403</td>\n      <td>0</td>\n      <td>2023-05-31 00:00:00</td>\n      <td>637</td>\n      <td>2015232</td>\n      <td>0</td>\n    </tr>\n    <tr>\n      <th>1</th>\n      <td>0</td>\n      <td>0</td>\n      <td>1</td>\n      <td>516.958</td>\n      <td>1</td>\n      <td>2023-05-31 00:00:00</td>\n      <td>637</td>\n      <td>2015233</td>\n      <td>0</td>\n    </tr>\n    <tr>\n      <th>2</th>\n      <td>0</td>\n      <td>0</td>\n      <td>1</td>\n      <td>2.336</td>\n      <td>0</td>\n      <td>2023-05-31 01:00:00</td>\n      <td>637</td>\n      <td>2015362</td>\n      <td>0</td>\n    </tr>\n    <tr>\n      <th>3</th>\n      <td>0</td>\n      <td>0</td>\n      <td>1</td>\n      <td>470.284</td>\n      <td>1</td>\n      <td>2023-05-31 01:00:00</td>\n      <td>637</td>\n      <td>2015363</td>\n      <td>0</td>\n    </tr>\n    <tr>\n      <th>4</th>\n      <td>0</td>\n      <td>0</td>\n      <td>1</td>\n      <td>1.810</td>\n      <td>0</td>\n      <td>2023-05-31 02:00:00</td>\n      <td>637</td>\n      <td>2015492</td>\n      <td>0</td>\n    </tr>\n    <tr>\n      <th>...</th>\n      <td>...</td>\n      <td>...</td>\n      <td>...</td>\n      <td>...</td>\n      <td>...</td>\n      <td>...</td>\n      <td>...</td>\n      <td>...</td>\n      <td>...</td>\n    </tr>\n    <tr>\n      <th>3115</th>\n      <td>14</td>\n      <td>1</td>\n      <td>2</td>\n      <td>6.911</td>\n      <td>1</td>\n      <td>2023-05-31 21:00:00</td>\n      <td>637</td>\n      <td>2018079</td>\n      <td>68</td>\n    </tr>\n    <tr>\n      <th>3116</th>\n      <td>14</td>\n      <td>1</td>\n      <td>2</td>\n      <td>0.017</td>\n      <td>0</td>\n      <td>2023-05-31 22:00:00</td>\n      <td>637</td>\n      <td>2018208</td>\n      <td>68</td>\n    </tr>\n    <tr>\n      <th>3117</th>\n      <td>14</td>\n      <td>1</td>\n      <td>2</td>\n      <td>10.401</td>\n      <td>1</td>\n      <td>2023-05-31 22:00:00</td>\n      <td>637</td>\n      <td>2018209</td>\n      <td>68</td>\n    </tr>\n    <tr>\n      <th>3118</th>\n      <td>14</td>\n      <td>1</td>\n      <td>2</td>\n      <td>0.000</td>\n      <td>0</td>\n      <td>2023-05-31 23:00:00</td>\n      <td>637</td>\n      <td>2018338</td>\n      <td>68</td>\n    </tr>\n    <tr>\n      <th>3119</th>\n      <td>14</td>\n      <td>1</td>\n      <td>2</td>\n      <td>10.859</td>\n      <td>1</td>\n      <td>2023-05-31 23:00:00</td>\n      <td>637</td>\n      <td>2018339</td>\n      <td>68</td>\n    </tr>\n  </tbody>\n</table>\n<p>3120 rows × 9 columns</p>\n</div>"
     },
     "execution_count": 32,
     "metadata": {},
     "output_type": "execute_result"
    }
   ],
   "source": [
    "train: pd.DataFrame = pd.read_csv(TRAIN_PATH)\n",
    "train.query(\"data_block_id == 637\").sort_values(by=[\"prediction_unit_id\", \"datetime\"]).reset_index(drop=True)"
   ],
   "metadata": {
    "collapsed": false,
    "ExecuteTime": {
     "end_time": "2024-01-25T14:47:14.359076730Z",
     "start_time": "2024-01-25T14:47:13.714395909Z"
    }
   },
   "id": "333b676c938e605f",
   "execution_count": 32
  },
  {
   "cell_type": "code",
   "outputs": [
    {
     "data": {
      "text/plain": "Index(['county', 'is_business', 'product_type', 'target', 'is_consumption',\n       'datetime', 'data_block_id', 'row_id', 'prediction_unit_id'],\n      dtype='object')"
     },
     "execution_count": 27,
     "metadata": {},
     "output_type": "execute_result"
    }
   ],
   "source": [
    "train.columns"
   ],
   "metadata": {
    "collapsed": false,
    "ExecuteTime": {
     "end_time": "2024-01-25T14:30:34.257040493Z",
     "start_time": "2024-01-25T14:30:34.252392622Z"
    }
   },
   "id": "470e6aec256873ec",
   "execution_count": 27
  },
  {
   "cell_type": "code",
   "outputs": [],
   "source": [
    "train.dtypes"
   ],
   "metadata": {
    "collapsed": false
   },
   "id": "c52211630efd156b",
   "execution_count": null
  },
  {
   "cell_type": "markdown",
   "source": [
    "## EDA"
   ],
   "metadata": {
    "collapsed": false
   },
   "id": "d4f140638742c9cd"
  },
  {
   "cell_type": "markdown",
   "source": [
    "### Check database info"
   ],
   "metadata": {
    "collapsed": false
   },
   "id": "1b2d58976b247ab"
  },
  {
   "cell_type": "code",
   "outputs": [],
   "source": [
    "train.info(verbose=True, memory_usage=\"deep\", show_counts=True)"
   ],
   "metadata": {
    "collapsed": false
   },
   "id": "1109d6682dc31ae6",
   "execution_count": null
  },
  {
   "cell_type": "code",
   "outputs": [],
   "source": [
    "train.describe()"
   ],
   "metadata": {
    "collapsed": false
   },
   "id": "1adcf9973db8f858",
   "execution_count": null
  },
  {
   "cell_type": "markdown",
   "source": [
    "## Primary key investigation"
   ],
   "metadata": {
    "collapsed": false
   },
   "id": "3fa1f80ec98b7648"
  },
  {
   "cell_type": "code",
   "outputs": [],
   "source": [
    "train.groupby([\"county\", \"product_type\", \"is_business\", \"is_consumption\", \"datetime\"]).agg({\"target\": \"count\"})"
   ],
   "metadata": {
    "collapsed": false
   },
   "id": "5567ea99ea24e33b",
   "execution_count": null
  },
  {
   "cell_type": "code",
   "outputs": [],
   "source": [
    "px.line(train, x=\"datetime\", y=\"target\", color=\"prediction_unit_id\")"
   ],
   "metadata": {
    "collapsed": false
   },
   "id": "56359140cf1e5777",
   "execution_count": null
  },
  {
   "cell_type": "code",
   "outputs": [],
   "source": [
    "train[\"datetime\"] = pd.to_datetime(train[\"datetime\"], format=\"%Y-%m-%d %H:%M:%S\")\n",
    "train[\"hour\"] = train[\"datetime\"].dt.hour"
   ],
   "metadata": {
    "collapsed": false,
    "ExecuteTime": {
     "end_time": "2024-01-25T14:29:52.902051687Z",
     "start_time": "2024-01-25T14:29:52.841863935Z"
    }
   },
   "id": "9b428b7d89775b",
   "execution_count": 24
  },
  {
   "cell_type": "markdown",
   "source": [
    "## Conclusion"
   ],
   "metadata": {
    "collapsed": false
   },
   "id": "98f613dc51f8c83c"
  },
  {
   "cell_type": "markdown",
   "source": [
    "1. molto semplice, bisogna solo convertire le colonne"
   ],
   "metadata": {
    "collapsed": false
   },
   "id": "b305ea3f507418e4"
  }
 ],
 "metadata": {
  "kernelspec": {
   "display_name": "Python 3",
   "language": "python",
   "name": "python3"
  },
  "language_info": {
   "codemirror_mode": {
    "name": "ipython",
    "version": 2
   },
   "file_extension": ".py",
   "mimetype": "text/x-python",
   "name": "python",
   "nbconvert_exporter": "python",
   "pygments_lexer": "ipython2",
   "version": "2.7.6"
  }
 },
 "nbformat": 4,
 "nbformat_minor": 5
}
