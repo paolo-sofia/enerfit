{
 "cells": [
  {
   "cell_type": "markdown",
   "source": [
    "## Imports"
   ],
   "metadata": {
    "collapsed": false
   },
   "id": "ed1c7523093985ca"
  },
  {
   "cell_type": "code",
   "execution_count": 9,
   "id": "initial_id",
   "metadata": {
    "collapsed": true,
    "ExecuteTime": {
     "end_time": "2024-01-25T14:12:57.273037782Z",
     "start_time": "2024-01-25T14:12:57.224225567Z"
    }
   },
   "outputs": [],
   "source": [
    "import pathlib\n",
    "\n",
    "import pandas as pd\n",
    "import plotly.express as px"
   ]
  },
  {
   "cell_type": "markdown",
   "source": [
    "## Environment variables"
   ],
   "metadata": {
    "collapsed": false
   },
   "id": "b4404ceb4aa33ddb"
  },
  {
   "cell_type": "markdown",
   "source": [],
   "metadata": {
    "collapsed": false
   },
   "id": "e94f8929a824c153"
  },
  {
   "cell_type": "code",
   "outputs": [],
   "source": [
    "pd.options.plotting.backend = \"plotly\"\n",
    "pd.options.display.float_format = '{:.3f}'.format"
   ],
   "metadata": {
    "collapsed": false,
    "ExecuteTime": {
     "end_time": "2024-01-25T14:12:58.544403999Z",
     "start_time": "2024-01-25T14:12:58.538668095Z"
    }
   },
   "id": "c8fbac051c3fda3",
   "execution_count": 10
  },
  {
   "cell_type": "markdown",
   "source": [
    "## Constants definition"
   ],
   "metadata": {
    "collapsed": false
   },
   "id": "e5f8e0c469706b5"
  },
  {
   "cell_type": "code",
   "outputs": [],
   "source": [
    "WEATHER_PATH: pathlib.Path = pathlib.Path(\"../data/predict-energy-behavior-of-prosumers/forecast_weather.csv\")"
   ],
   "metadata": {
    "collapsed": false,
    "ExecuteTime": {
     "end_time": "2024-01-25T14:11:15.682091773Z",
     "start_time": "2024-01-25T14:11:15.677800926Z"
    }
   },
   "id": "3e882fc709acc072",
   "execution_count": 3
  },
  {
   "cell_type": "markdown",
   "source": [
    "## Data load"
   ],
   "metadata": {
    "collapsed": false
   },
   "id": "354d0fdd85d9e3a8"
  },
  {
   "cell_type": "markdown",
   "source": [
    "- **origin_date** - The date when the day-ahead prices became available.\n",
    "- **forecast_date** - Represents the start of the 1-hour period when the price is valid\n",
    "- **euros_per_mwh** - The price of electricity on the day ahead markets in euros per megawatt hour.\n",
    "- **data_block_id** - All rows sharing the same `data_block_id` will be available at the same forecast time. This is a function of what information is available when forecasts are actually made, at 11 AM each morning. For example, if the forecast weather `data_block_id` for predictins made on October 31st is 100 then the historic weather `data_block_id` for October 31st will be 101 as the historic weather data is only actually available the next day."
   ],
   "metadata": {
    "collapsed": false
   },
   "id": "9fc1163ab2265e21"
  },
  {
   "cell_type": "code",
   "outputs": [
    {
     "data": {
      "text/plain": "   latitude  longitude      origin_datetime  hours_ahead  temperature  \\\n0      57.6       21.7  2021-09-01 02:00:00            1    15.655786   \n1      57.6       22.2  2021-09-01 02:00:00            1    13.003931   \n2      57.6       22.7  2021-09-01 02:00:00            1    14.206567   \n3      57.6       23.2  2021-09-01 02:00:00            1    14.844507   \n4      57.6       23.7  2021-09-01 02:00:00            1    15.293848   \n5      57.6       24.2  2021-09-01 02:00:00            1    15.448999   \n6      57.6       24.7  2021-09-01 02:00:00            1    10.723535   \n7      57.6       25.2  2021-09-01 02:00:00            1    10.364893   \n8      57.6       25.7  2021-09-01 02:00:00            1     9.783228   \n9      57.6       26.2  2021-09-01 02:00:00            1     9.965112   \n\n    dewpoint  cloudcover_high  cloudcover_low  cloudcover_mid  \\\n0  11.553613         0.904816        0.019714        0.000000   \n1  10.689844         0.886322        0.004456        0.000000   \n2  11.671777         0.729034        0.005615        0.000000   \n3  12.264917         0.336304        0.074341        0.000626   \n4  12.458887         0.102875        0.088074        0.000015   \n5  12.878687         0.000000        0.232635        0.053558   \n6  10.032739         0.095764        0.222443        0.034836   \n7   8.832788         0.469421        0.105103        0.055603   \n8   8.720483         0.370117        0.091003        0.035339   \n9   9.094995         0.004456        0.247803        0.015030   \n\n   cloudcover_total  10_metre_u_wind_component  10_metre_v_wind_component  \\\n0          0.905899                  -0.411328                  -9.106137   \n1          0.886658                   0.206347                  -5.355405   \n2          0.730499                   1.451587                  -7.417905   \n3          0.385468                   1.090869                  -9.163999   \n4          0.176590                   1.268481                  -8.975766   \n5          0.237198                   1.114184                  -7.702085   \n6          0.302612                   1.374927                  -2.276303   \n7          0.528717                   1.847339                  -2.719419   \n8          0.430389                   1.459521                  -2.114682   \n9          0.252289                   1.481128                  -2.359311   \n\n   data_block_id    forecast_datetime  direct_solar_radiation  \\\n0              1  2021-09-01 03:00:00                     0.0   \n1              1  2021-09-01 03:00:00                     0.0   \n2              1  2021-09-01 03:00:00                     0.0   \n3              1  2021-09-01 03:00:00                     0.0   \n4              1  2021-09-01 03:00:00                     0.0   \n5              1  2021-09-01 03:00:00                     0.0   \n6              1  2021-09-01 03:00:00                     0.0   \n7              1  2021-09-01 03:00:00                     0.0   \n8              1  2021-09-01 03:00:00                     0.0   \n9              1  2021-09-01 03:00:00                     0.0   \n\n   surface_solar_radiation_downwards  snowfall  total_precipitation  \n0                                0.0       0.0                  0.0  \n1                                0.0       0.0                  0.0  \n2                                0.0       0.0                  0.0  \n3                                0.0       0.0                  0.0  \n4                                0.0       0.0                  0.0  \n5                                0.0       0.0                  0.0  \n6                                0.0       0.0                  0.0  \n7                                0.0       0.0                  0.0  \n8                                0.0       0.0                  0.0  \n9                                0.0       0.0                  0.0  ",
      "text/html": "<div>\n<style scoped>\n    .dataframe tbody tr th:only-of-type {\n        vertical-align: middle;\n    }\n\n    .dataframe tbody tr th {\n        vertical-align: top;\n    }\n\n    .dataframe thead th {\n        text-align: right;\n    }\n</style>\n<table border=\"1\" class=\"dataframe\">\n  <thead>\n    <tr style=\"text-align: right;\">\n      <th></th>\n      <th>latitude</th>\n      <th>longitude</th>\n      <th>origin_datetime</th>\n      <th>hours_ahead</th>\n      <th>temperature</th>\n      <th>dewpoint</th>\n      <th>cloudcover_high</th>\n      <th>cloudcover_low</th>\n      <th>cloudcover_mid</th>\n      <th>cloudcover_total</th>\n      <th>10_metre_u_wind_component</th>\n      <th>10_metre_v_wind_component</th>\n      <th>data_block_id</th>\n      <th>forecast_datetime</th>\n      <th>direct_solar_radiation</th>\n      <th>surface_solar_radiation_downwards</th>\n      <th>snowfall</th>\n      <th>total_precipitation</th>\n    </tr>\n  </thead>\n  <tbody>\n    <tr>\n      <th>0</th>\n      <td>57.6</td>\n      <td>21.7</td>\n      <td>2021-09-01 02:00:00</td>\n      <td>1</td>\n      <td>15.655786</td>\n      <td>11.553613</td>\n      <td>0.904816</td>\n      <td>0.019714</td>\n      <td>0.000000</td>\n      <td>0.905899</td>\n      <td>-0.411328</td>\n      <td>-9.106137</td>\n      <td>1</td>\n      <td>2021-09-01 03:00:00</td>\n      <td>0.0</td>\n      <td>0.0</td>\n      <td>0.0</td>\n      <td>0.0</td>\n    </tr>\n    <tr>\n      <th>1</th>\n      <td>57.6</td>\n      <td>22.2</td>\n      <td>2021-09-01 02:00:00</td>\n      <td>1</td>\n      <td>13.003931</td>\n      <td>10.689844</td>\n      <td>0.886322</td>\n      <td>0.004456</td>\n      <td>0.000000</td>\n      <td>0.886658</td>\n      <td>0.206347</td>\n      <td>-5.355405</td>\n      <td>1</td>\n      <td>2021-09-01 03:00:00</td>\n      <td>0.0</td>\n      <td>0.0</td>\n      <td>0.0</td>\n      <td>0.0</td>\n    </tr>\n    <tr>\n      <th>2</th>\n      <td>57.6</td>\n      <td>22.7</td>\n      <td>2021-09-01 02:00:00</td>\n      <td>1</td>\n      <td>14.206567</td>\n      <td>11.671777</td>\n      <td>0.729034</td>\n      <td>0.005615</td>\n      <td>0.000000</td>\n      <td>0.730499</td>\n      <td>1.451587</td>\n      <td>-7.417905</td>\n      <td>1</td>\n      <td>2021-09-01 03:00:00</td>\n      <td>0.0</td>\n      <td>0.0</td>\n      <td>0.0</td>\n      <td>0.0</td>\n    </tr>\n    <tr>\n      <th>3</th>\n      <td>57.6</td>\n      <td>23.2</td>\n      <td>2021-09-01 02:00:00</td>\n      <td>1</td>\n      <td>14.844507</td>\n      <td>12.264917</td>\n      <td>0.336304</td>\n      <td>0.074341</td>\n      <td>0.000626</td>\n      <td>0.385468</td>\n      <td>1.090869</td>\n      <td>-9.163999</td>\n      <td>1</td>\n      <td>2021-09-01 03:00:00</td>\n      <td>0.0</td>\n      <td>0.0</td>\n      <td>0.0</td>\n      <td>0.0</td>\n    </tr>\n    <tr>\n      <th>4</th>\n      <td>57.6</td>\n      <td>23.7</td>\n      <td>2021-09-01 02:00:00</td>\n      <td>1</td>\n      <td>15.293848</td>\n      <td>12.458887</td>\n      <td>0.102875</td>\n      <td>0.088074</td>\n      <td>0.000015</td>\n      <td>0.176590</td>\n      <td>1.268481</td>\n      <td>-8.975766</td>\n      <td>1</td>\n      <td>2021-09-01 03:00:00</td>\n      <td>0.0</td>\n      <td>0.0</td>\n      <td>0.0</td>\n      <td>0.0</td>\n    </tr>\n    <tr>\n      <th>5</th>\n      <td>57.6</td>\n      <td>24.2</td>\n      <td>2021-09-01 02:00:00</td>\n      <td>1</td>\n      <td>15.448999</td>\n      <td>12.878687</td>\n      <td>0.000000</td>\n      <td>0.232635</td>\n      <td>0.053558</td>\n      <td>0.237198</td>\n      <td>1.114184</td>\n      <td>-7.702085</td>\n      <td>1</td>\n      <td>2021-09-01 03:00:00</td>\n      <td>0.0</td>\n      <td>0.0</td>\n      <td>0.0</td>\n      <td>0.0</td>\n    </tr>\n    <tr>\n      <th>6</th>\n      <td>57.6</td>\n      <td>24.7</td>\n      <td>2021-09-01 02:00:00</td>\n      <td>1</td>\n      <td>10.723535</td>\n      <td>10.032739</td>\n      <td>0.095764</td>\n      <td>0.222443</td>\n      <td>0.034836</td>\n      <td>0.302612</td>\n      <td>1.374927</td>\n      <td>-2.276303</td>\n      <td>1</td>\n      <td>2021-09-01 03:00:00</td>\n      <td>0.0</td>\n      <td>0.0</td>\n      <td>0.0</td>\n      <td>0.0</td>\n    </tr>\n    <tr>\n      <th>7</th>\n      <td>57.6</td>\n      <td>25.2</td>\n      <td>2021-09-01 02:00:00</td>\n      <td>1</td>\n      <td>10.364893</td>\n      <td>8.832788</td>\n      <td>0.469421</td>\n      <td>0.105103</td>\n      <td>0.055603</td>\n      <td>0.528717</td>\n      <td>1.847339</td>\n      <td>-2.719419</td>\n      <td>1</td>\n      <td>2021-09-01 03:00:00</td>\n      <td>0.0</td>\n      <td>0.0</td>\n      <td>0.0</td>\n      <td>0.0</td>\n    </tr>\n    <tr>\n      <th>8</th>\n      <td>57.6</td>\n      <td>25.7</td>\n      <td>2021-09-01 02:00:00</td>\n      <td>1</td>\n      <td>9.783228</td>\n      <td>8.720483</td>\n      <td>0.370117</td>\n      <td>0.091003</td>\n      <td>0.035339</td>\n      <td>0.430389</td>\n      <td>1.459521</td>\n      <td>-2.114682</td>\n      <td>1</td>\n      <td>2021-09-01 03:00:00</td>\n      <td>0.0</td>\n      <td>0.0</td>\n      <td>0.0</td>\n      <td>0.0</td>\n    </tr>\n    <tr>\n      <th>9</th>\n      <td>57.6</td>\n      <td>26.2</td>\n      <td>2021-09-01 02:00:00</td>\n      <td>1</td>\n      <td>9.965112</td>\n      <td>9.094995</td>\n      <td>0.004456</td>\n      <td>0.247803</td>\n      <td>0.015030</td>\n      <td>0.252289</td>\n      <td>1.481128</td>\n      <td>-2.359311</td>\n      <td>1</td>\n      <td>2021-09-01 03:00:00</td>\n      <td>0.0</td>\n      <td>0.0</td>\n      <td>0.0</td>\n      <td>0.0</td>\n    </tr>\n  </tbody>\n</table>\n</div>"
     },
     "execution_count": 4,
     "metadata": {},
     "output_type": "execute_result"
    }
   ],
   "source": [
    "weather: pd.DataFrame = pd.read_csv(WEATHER_PATH)\n",
    "weather.head(10)"
   ],
   "metadata": {
    "collapsed": false,
    "ExecuteTime": {
     "end_time": "2024-01-25T14:11:22.829053850Z",
     "start_time": "2024-01-25T14:11:17.750916049Z"
    }
   },
   "id": "333b676c938e605f",
   "execution_count": 4
  },
  {
   "cell_type": "code",
   "outputs": [
    {
     "data": {
      "text/plain": "Index(['latitude', 'longitude', 'origin_datetime', 'hours_ahead',\n       'temperature', 'dewpoint', 'cloudcover_high', 'cloudcover_low',\n       'cloudcover_mid', 'cloudcover_total', '10_metre_u_wind_component',\n       '10_metre_v_wind_component', 'data_block_id', 'forecast_datetime',\n       'direct_solar_radiation', 'surface_solar_radiation_downwards',\n       'snowfall', 'total_precipitation'],\n      dtype='object')"
     },
     "execution_count": 5,
     "metadata": {},
     "output_type": "execute_result"
    }
   ],
   "source": [
    "weather.columns"
   ],
   "metadata": {
    "collapsed": false,
    "ExecuteTime": {
     "end_time": "2024-01-25T14:11:25.246773574Z",
     "start_time": "2024-01-25T14:11:25.241173107Z"
    }
   },
   "id": "470e6aec256873ec",
   "execution_count": 5
  },
  {
   "cell_type": "code",
   "outputs": [
    {
     "data": {
      "text/plain": "latitude                             float64\nlongitude                            float64\norigin_datetime                       object\nhours_ahead                            int64\ntemperature                          float64\ndewpoint                             float64\ncloudcover_high                      float64\ncloudcover_low                       float64\ncloudcover_mid                       float64\ncloudcover_total                     float64\n10_metre_u_wind_component            float64\n10_metre_v_wind_component            float64\ndata_block_id                          int64\nforecast_datetime                     object\ndirect_solar_radiation               float64\nsurface_solar_radiation_downwards    float64\nsnowfall                             float64\ntotal_precipitation                  float64\ndtype: object"
     },
     "execution_count": 6,
     "metadata": {},
     "output_type": "execute_result"
    }
   ],
   "source": [
    "weather.dtypes"
   ],
   "metadata": {
    "collapsed": false,
    "ExecuteTime": {
     "end_time": "2024-01-25T14:11:28.057693515Z",
     "start_time": "2024-01-25T14:11:28.053973266Z"
    }
   },
   "id": "c52211630efd156b",
   "execution_count": 6
  },
  {
   "cell_type": "markdown",
   "source": [
    "## EDA"
   ],
   "metadata": {
    "collapsed": false
   },
   "id": "d4f140638742c9cd"
  },
  {
   "cell_type": "markdown",
   "source": [
    "### Check database info"
   ],
   "metadata": {
    "collapsed": false
   },
   "id": "1b2d58976b247ab"
  },
  {
   "cell_type": "code",
   "outputs": [
    {
     "name": "stdout",
     "output_type": "stream",
     "text": [
      "<class 'pandas.core.frame.DataFrame'>\n",
      "RangeIndex: 3424512 entries, 0 to 3424511\n",
      "Data columns (total 18 columns):\n",
      " #   Column                             Non-Null Count    Dtype  \n",
      "---  ------                             --------------    -----  \n",
      " 0   latitude                           3424512 non-null  float64\n",
      " 1   longitude                          3424512 non-null  float64\n",
      " 2   origin_datetime                    3424512 non-null  object \n",
      " 3   hours_ahead                        3424512 non-null  int64  \n",
      " 4   temperature                        3424512 non-null  float64\n",
      " 5   dewpoint                           3424512 non-null  float64\n",
      " 6   cloudcover_high                    3424512 non-null  float64\n",
      " 7   cloudcover_low                     3424512 non-null  float64\n",
      " 8   cloudcover_mid                     3424512 non-null  float64\n",
      " 9   cloudcover_total                   3424512 non-null  float64\n",
      " 10  10_metre_u_wind_component          3424512 non-null  float64\n",
      " 11  10_metre_v_wind_component          3424512 non-null  float64\n",
      " 12  data_block_id                      3424512 non-null  int64  \n",
      " 13  forecast_datetime                  3424512 non-null  object \n",
      " 14  direct_solar_radiation             3424512 non-null  float64\n",
      " 15  surface_solar_radiation_downwards  3424510 non-null  float64\n",
      " 16  snowfall                           3424512 non-null  float64\n",
      " 17  total_precipitation                3424512 non-null  float64\n",
      "dtypes: float64(14), int64(2), object(2)\n",
      "memory usage: 914.4 MB\n"
     ]
    }
   ],
   "source": [
    "weather.info(verbose=True, memory_usage=\"deep\", show_counts=True)"
   ],
   "metadata": {
    "collapsed": false,
    "ExecuteTime": {
     "end_time": "2024-01-25T14:11:38.137065807Z",
     "start_time": "2024-01-25T14:11:37.201035914Z"
    }
   },
   "id": "1109d6682dc31ae6",
   "execution_count": 7
  },
  {
   "cell_type": "code",
   "outputs": [
    {
     "data": {
      "text/plain": "         latitude   longitude  hours_ahead  temperature    dewpoint  \\\ncount 3424512.000 3424512.000  3424512.000  3424512.000 3424512.000   \nmean       58.650      24.950       24.500        5.744       2.412   \nstd         0.687       2.016       13.853        7.844       7.121   \nmin        57.600      21.700        1.000      -27.499     -29.684   \n25%        58.125      23.200       12.750        0.261      -2.364   \n50%        58.650      24.950       24.500        4.873       1.836   \n75%        59.175      26.700       36.250       11.146       7.302   \nmax        59.700      28.200       48.000       31.811      23.681   \n\n       cloudcover_high  cloudcover_low  cloudcover_mid  cloudcover_total  \\\ncount      3424512.000     3424512.000     3424512.000       3424512.000   \nmean             0.395           0.435           0.359             0.682   \nstd              0.444           0.439           0.420             0.401   \nmin              0.000           0.000           0.000             0.000   \n25%              0.000           0.000           0.000             0.265   \n50%              0.089           0.231           0.101             0.977   \n75%              0.978           0.999           0.900             1.000   \nmax              1.000           1.000           1.000             1.000   \n\n       10_metre_u_wind_component  10_metre_v_wind_component  data_block_id  \\\ncount                3424512.000                3424512.000    3424512.000   \nmean                       1.255                      0.725        319.000   \nstd                        3.995                      4.224        183.886   \nmin                      -17.577                    -22.116          1.000   \n25%                       -1.467                     -1.978        160.000   \n50%                        1.469                      0.943        319.000   \n75%                        3.814                      3.508        478.000   \nmax                       22.573                     19.314        637.000   \n\n       direct_solar_radiation  surface_solar_radiation_downwards    snowfall  \\\ncount             3424512.000                        3424510.000 3424512.000   \nmean                  151.188                            110.764       0.000   \nstd                   256.507                            187.444       0.000   \nmin                    -0.773                             -0.326      -0.000   \n25%                     0.000                              0.000       0.000   \n50%                     0.000                              0.604       0.000   \n75%                   212.845                            144.172       0.000   \nmax                   954.422                            848.714       0.005   \n\n       total_precipitation  \ncount          3424512.000  \nmean                 0.000  \nstd                  0.000  \nmin                 -0.000  \n25%                  0.000  \n50%                  0.000  \n75%                  0.000  \nmax                  0.017  ",
      "text/html": "<div>\n<style scoped>\n    .dataframe tbody tr th:only-of-type {\n        vertical-align: middle;\n    }\n\n    .dataframe tbody tr th {\n        vertical-align: top;\n    }\n\n    .dataframe thead th {\n        text-align: right;\n    }\n</style>\n<table border=\"1\" class=\"dataframe\">\n  <thead>\n    <tr style=\"text-align: right;\">\n      <th></th>\n      <th>latitude</th>\n      <th>longitude</th>\n      <th>hours_ahead</th>\n      <th>temperature</th>\n      <th>dewpoint</th>\n      <th>cloudcover_high</th>\n      <th>cloudcover_low</th>\n      <th>cloudcover_mid</th>\n      <th>cloudcover_total</th>\n      <th>10_metre_u_wind_component</th>\n      <th>10_metre_v_wind_component</th>\n      <th>data_block_id</th>\n      <th>direct_solar_radiation</th>\n      <th>surface_solar_radiation_downwards</th>\n      <th>snowfall</th>\n      <th>total_precipitation</th>\n    </tr>\n  </thead>\n  <tbody>\n    <tr>\n      <th>count</th>\n      <td>3424512.000</td>\n      <td>3424512.000</td>\n      <td>3424512.000</td>\n      <td>3424512.000</td>\n      <td>3424512.000</td>\n      <td>3424512.000</td>\n      <td>3424512.000</td>\n      <td>3424512.000</td>\n      <td>3424512.000</td>\n      <td>3424512.000</td>\n      <td>3424512.000</td>\n      <td>3424512.000</td>\n      <td>3424512.000</td>\n      <td>3424510.000</td>\n      <td>3424512.000</td>\n      <td>3424512.000</td>\n    </tr>\n    <tr>\n      <th>mean</th>\n      <td>58.650</td>\n      <td>24.950</td>\n      <td>24.500</td>\n      <td>5.744</td>\n      <td>2.412</td>\n      <td>0.395</td>\n      <td>0.435</td>\n      <td>0.359</td>\n      <td>0.682</td>\n      <td>1.255</td>\n      <td>0.725</td>\n      <td>319.000</td>\n      <td>151.188</td>\n      <td>110.764</td>\n      <td>0.000</td>\n      <td>0.000</td>\n    </tr>\n    <tr>\n      <th>std</th>\n      <td>0.687</td>\n      <td>2.016</td>\n      <td>13.853</td>\n      <td>7.844</td>\n      <td>7.121</td>\n      <td>0.444</td>\n      <td>0.439</td>\n      <td>0.420</td>\n      <td>0.401</td>\n      <td>3.995</td>\n      <td>4.224</td>\n      <td>183.886</td>\n      <td>256.507</td>\n      <td>187.444</td>\n      <td>0.000</td>\n      <td>0.000</td>\n    </tr>\n    <tr>\n      <th>min</th>\n      <td>57.600</td>\n      <td>21.700</td>\n      <td>1.000</td>\n      <td>-27.499</td>\n      <td>-29.684</td>\n      <td>0.000</td>\n      <td>0.000</td>\n      <td>0.000</td>\n      <td>0.000</td>\n      <td>-17.577</td>\n      <td>-22.116</td>\n      <td>1.000</td>\n      <td>-0.773</td>\n      <td>-0.326</td>\n      <td>-0.000</td>\n      <td>-0.000</td>\n    </tr>\n    <tr>\n      <th>25%</th>\n      <td>58.125</td>\n      <td>23.200</td>\n      <td>12.750</td>\n      <td>0.261</td>\n      <td>-2.364</td>\n      <td>0.000</td>\n      <td>0.000</td>\n      <td>0.000</td>\n      <td>0.265</td>\n      <td>-1.467</td>\n      <td>-1.978</td>\n      <td>160.000</td>\n      <td>0.000</td>\n      <td>0.000</td>\n      <td>0.000</td>\n      <td>0.000</td>\n    </tr>\n    <tr>\n      <th>50%</th>\n      <td>58.650</td>\n      <td>24.950</td>\n      <td>24.500</td>\n      <td>4.873</td>\n      <td>1.836</td>\n      <td>0.089</td>\n      <td>0.231</td>\n      <td>0.101</td>\n      <td>0.977</td>\n      <td>1.469</td>\n      <td>0.943</td>\n      <td>319.000</td>\n      <td>0.000</td>\n      <td>0.604</td>\n      <td>0.000</td>\n      <td>0.000</td>\n    </tr>\n    <tr>\n      <th>75%</th>\n      <td>59.175</td>\n      <td>26.700</td>\n      <td>36.250</td>\n      <td>11.146</td>\n      <td>7.302</td>\n      <td>0.978</td>\n      <td>0.999</td>\n      <td>0.900</td>\n      <td>1.000</td>\n      <td>3.814</td>\n      <td>3.508</td>\n      <td>478.000</td>\n      <td>212.845</td>\n      <td>144.172</td>\n      <td>0.000</td>\n      <td>0.000</td>\n    </tr>\n    <tr>\n      <th>max</th>\n      <td>59.700</td>\n      <td>28.200</td>\n      <td>48.000</td>\n      <td>31.811</td>\n      <td>23.681</td>\n      <td>1.000</td>\n      <td>1.000</td>\n      <td>1.000</td>\n      <td>1.000</td>\n      <td>22.573</td>\n      <td>19.314</td>\n      <td>637.000</td>\n      <td>954.422</td>\n      <td>848.714</td>\n      <td>0.005</td>\n      <td>0.017</td>\n    </tr>\n  </tbody>\n</table>\n</div>"
     },
     "execution_count": 11,
     "metadata": {},
     "output_type": "execute_result"
    }
   ],
   "source": [
    "weather.describe()"
   ],
   "metadata": {
    "collapsed": false,
    "ExecuteTime": {
     "end_time": "2024-01-25T14:13:03.179826291Z",
     "start_time": "2024-01-25T14:13:02.064877611Z"
    }
   },
   "id": "1adcf9973db8f858",
   "execution_count": 11
  },
  {
   "cell_type": "markdown",
   "source": [
    "## Conclusion"
   ],
   "metadata": {
    "collapsed": false
   },
   "id": "98f613dc51f8c83c"
  },
  {
   "cell_type": "markdown",
   "source": [
    "1. molto semplice, bisogna solo convertire le colonne"
   ],
   "metadata": {
    "collapsed": false
   },
   "id": "b305ea3f507418e4"
  }
 ],
 "metadata": {
  "kernelspec": {
   "display_name": "Python 3",
   "language": "python",
   "name": "python3"
  },
  "language_info": {
   "codemirror_mode": {
    "name": "ipython",
    "version": 2
   },
   "file_extension": ".py",
   "mimetype": "text/x-python",
   "name": "python",
   "nbconvert_exporter": "python",
   "pygments_lexer": "ipython2",
   "version": "2.7.6"
  }
 },
 "nbformat": 4,
 "nbformat_minor": 5
}
